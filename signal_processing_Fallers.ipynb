{
 "cells": [
  {
   "cell_type": "markdown",
   "metadata": {},
   "source": [
    "Import"
   ]
  },
  {
   "cell_type": "code",
   "execution_count": 6,
   "metadata": {},
   "outputs": [],
   "source": [
    "import pandas as pd\n",
    "import numpy as np\n",
    "import plotly.express as px\n",
    "import plotly.graph_objects as go\n",
    "from plotly.subplots import make_subplots\n",
    "import scipy\n",
    "from scipy.fftpack import fft, fftfreq, fftshift, ifft\n",
    "from scipy import signal\n",
    "from scipy.signal import butter, lfilter, filtfilt\n",
    "from optcutfreq import optcutfreq"
   ]
  },
  {
   "cell_type": "markdown",
   "metadata": {},
   "source": [
    "Read"
   ]
  },
  {
   "cell_type": "code",
   "execution_count": 7,
   "metadata": {},
   "outputs": [],
   "source": [
    "import os, glob"
   ]
  },
  {
   "cell_type": "code",
   "execution_count": 8,
   "metadata": {},
   "outputs": [],
   "source": [
    "# Define relative path to folder containing the text files\n",
    "\n",
    "files_folder = \"/Users/cyrilleetude/Desktop/Bureau - MacBook Air de Cyrille/Semester_Project_Cyrille_2022/MachineLEARNING/NonFallers_Processed_fc\"\n",
    "raw_files = []\n",
    "\n",
    "# Create a dataframe list by using a list comprehension\n",
    "\n",
    "raw_files = [pd.read_csv(file) for file in glob.glob(os.path.join(files_folder ,\"*.csv\"))]\n"
   ]
  },
  {
   "cell_type": "markdown",
   "metadata": {},
   "source": [
    "Processing and save (4th order bidirectionnal Butterworth filter at 16hz with 0 phase shift)"
   ]
  },
  {
   "cell_type": "code",
   "execution_count": 9,
   "metadata": {},
   "outputs": [],
   "source": [
    "Time= np.linspace(0,30,len(raw_files[0]))\n",
    "def clean_df(df):\n",
    "    '''\n",
    "        Clean a df by removing the firs row\n",
    "    '''\n",
    "    return df.loc[:, ['COM_AP', 'COM_ML']]\n",
    "# def residualanalysis_raw_data(column):\n",
    "#     '''\n",
    "#         Perform a residual analysis on each column to get the optimal cutoff frequency\n",
    "#     '''\n",
    "#     freq= np.mean(1/np.diff(Time))\n",
    "#     fc_opt= optcutfreq(column.values, freq, show=False)\n",
    "#     return fc_opt\n",
    "def optcutfreq_store(df):\n",
    "    '''\n",
    "        Store each frequencies found in a list\n",
    "    '''\n",
    "    Opt_Freq_list= []   \n",
    "    for i in df:\n",
    "        Opt_Freq_list.append(10) #fc_opt #list of optimal cutoff frequencies for each columns\n",
    "    return Opt_Freq_list\n",
    "def Fourth_Order_bidirect_ButterW(column, fc_opt):\n",
    "    '''\n",
    "        4th Order Butterworth filter with 0 phase shift (low pass)(Hak et al. 2013)\n",
    "    '''\n",
    "    npasses= 2 # 2 pass (bidirectional)\n",
    "    freq= np.mean(1/np.diff(Time))\n",
    "    C = (2**(1/npasses) - 1)**0.25 #correction\n",
    "    b, a = butter(4, (fc_opt/C)/(freq/4)) #4th order with correction the cutoff frequency for the number of passes in the filter\n",
    "    filtered_column = filtfilt(b, a, column.values)  # filter with phase shift correction\n",
    "    return filtered_column\n",
    "\n",
    "def filtred_store(df):\n",
    "    '''\n",
    "        Store each filtred column  in a list\n",
    "    '''\n",
    "    filtred_col_list= [] \n",
    "    fc_opt_list= optcutfreq_store(df)\n",
    "    Column_list= []   \n",
    "    for i in df:\n",
    "        Column_list.append(df[i]) #list of each column datas\n",
    "    for column, fc_opt in zip(Column_list, fc_opt_list):\n",
    "        filtred_col_list.append(Fourth_Order_bidirect_ButterW(column, fc_opt)) #list of optimal cutoff frequencies for each columns\n",
    "    return filtred_col_list\n",
    "def New_Data(df):\n",
    "    '''\n",
    "        Create a new dataframe with the filtered data\n",
    "    '''\n",
    "    names= list(df.columns)\n",
    "    data = filtred_store(df)\n",
    "    new_df = pd.DataFrame.from_dict(dict(zip(names, data)))  \n",
    "    return new_df\n",
    "\n",
    "CleanFiles= []\n",
    "for i in raw_files:\n",
    "    CleanFiles.append(clean_df(i))\n",
    "\n",
    "ProcessedFiles= []\n",
    "for i in CleanFiles:\n",
    "    ProcessedFiles.append(New_Data(i))\n"
   ]
  },
  {
   "cell_type": "code",
   "execution_count": 10,
   "metadata": {},
   "outputs": [
    {
     "data": {
      "text/html": [
       "<div>\n",
       "<style scoped>\n",
       "    .dataframe tbody tr th:only-of-type {\n",
       "        vertical-align: middle;\n",
       "    }\n",
       "\n",
       "    .dataframe tbody tr th {\n",
       "        vertical-align: top;\n",
       "    }\n",
       "\n",
       "    .dataframe thead th {\n",
       "        text-align: right;\n",
       "    }\n",
       "</style>\n",
       "<table border=\"1\" class=\"dataframe\">\n",
       "  <thead>\n",
       "    <tr style=\"text-align: right;\">\n",
       "      <th></th>\n",
       "      <th>Unnamed: 0</th>\n",
       "      <th>COM_AP</th>\n",
       "      <th>COM_ML</th>\n",
       "    </tr>\n",
       "  </thead>\n",
       "  <tbody>\n",
       "    <tr>\n",
       "      <th>0</th>\n",
       "      <td>499</td>\n",
       "      <td>-0.001361</td>\n",
       "      <td>0.000981</td>\n",
       "    </tr>\n",
       "    <tr>\n",
       "      <th>1</th>\n",
       "      <td>500</td>\n",
       "      <td>-0.001064</td>\n",
       "      <td>0.001054</td>\n",
       "    </tr>\n",
       "    <tr>\n",
       "      <th>2</th>\n",
       "      <td>501</td>\n",
       "      <td>-0.000767</td>\n",
       "      <td>0.001128</td>\n",
       "    </tr>\n",
       "    <tr>\n",
       "      <th>3</th>\n",
       "      <td>502</td>\n",
       "      <td>-0.000471</td>\n",
       "      <td>0.001203</td>\n",
       "    </tr>\n",
       "    <tr>\n",
       "      <th>4</th>\n",
       "      <td>503</td>\n",
       "      <td>-0.000177</td>\n",
       "      <td>0.001279</td>\n",
       "    </tr>\n",
       "    <tr>\n",
       "      <th>...</th>\n",
       "      <td>...</td>\n",
       "      <td>...</td>\n",
       "      <td>...</td>\n",
       "    </tr>\n",
       "    <tr>\n",
       "      <th>2996</th>\n",
       "      <td>3495</td>\n",
       "      <td>0.010000</td>\n",
       "      <td>0.011962</td>\n",
       "    </tr>\n",
       "    <tr>\n",
       "      <th>2997</th>\n",
       "      <td>3496</td>\n",
       "      <td>0.010205</td>\n",
       "      <td>0.011789</td>\n",
       "    </tr>\n",
       "    <tr>\n",
       "      <th>2998</th>\n",
       "      <td>3497</td>\n",
       "      <td>0.010406</td>\n",
       "      <td>0.011615</td>\n",
       "    </tr>\n",
       "    <tr>\n",
       "      <th>2999</th>\n",
       "      <td>3498</td>\n",
       "      <td>0.010606</td>\n",
       "      <td>0.011441</td>\n",
       "    </tr>\n",
       "    <tr>\n",
       "      <th>3000</th>\n",
       "      <td>3499</td>\n",
       "      <td>0.010804</td>\n",
       "      <td>0.011267</td>\n",
       "    </tr>\n",
       "  </tbody>\n",
       "</table>\n",
       "<p>3001 rows × 3 columns</p>\n",
       "</div>"
      ],
      "text/plain": [
       "      Unnamed: 0    COM_AP    COM_ML\n",
       "0            499 -0.001361  0.000981\n",
       "1            500 -0.001064  0.001054\n",
       "2            501 -0.000767  0.001128\n",
       "3            502 -0.000471  0.001203\n",
       "4            503 -0.000177  0.001279\n",
       "...          ...       ...       ...\n",
       "2996        3495  0.010000  0.011962\n",
       "2997        3496  0.010205  0.011789\n",
       "2998        3497  0.010406  0.011615\n",
       "2999        3498  0.010606  0.011441\n",
       "3000        3499  0.010804  0.011267\n",
       "\n",
       "[3001 rows x 3 columns]"
      ]
     },
     "execution_count": 10,
     "metadata": {},
     "output_type": "execute_result"
    }
   ],
   "source": [
    "raw_files[0]"
   ]
  },
  {
   "cell_type": "code",
   "execution_count": 13,
   "metadata": {},
   "outputs": [
    {
     "data": {
      "text/plain": [
       "array([0.000e+00, 1.000e-02, 2.000e-02, ..., 2.998e+01, 2.999e+01,\n",
       "       3.000e+01])"
      ]
     },
     "execution_count": 13,
     "metadata": {},
     "output_type": "execute_result"
    }
   ],
   "source": [
    "Time"
   ]
  },
  {
   "cell_type": "code",
   "execution_count": 11,
   "metadata": {},
   "outputs": [],
   "source": [
    "# def save(lst_of_df):\n",
    "#     for index in range(len(lst_of_df)):\n",
    "#         lst_of_df[index].to_csv('processed_Fallers_[%s].csv' %index)"
   ]
  },
  {
   "cell_type": "code",
   "execution_count": 12,
   "metadata": {},
   "outputs": [],
   "source": [
    "# save(ProcessedFiles)"
   ]
  }
 ],
 "metadata": {
  "interpreter": {
   "hash": "aee8b7b246df8f9039afb4144a1f6fd8d2ca17a180786b69acc140d282b71a49"
  },
  "kernelspec": {
   "display_name": "Python 3.10.4 64-bit",
   "language": "python",
   "name": "python3"
  },
  "language_info": {
   "codemirror_mode": {
    "name": "ipython",
    "version": 3
   },
   "file_extension": ".py",
   "mimetype": "text/x-python",
   "name": "python",
   "nbconvert_exporter": "python",
   "pygments_lexer": "ipython3",
   "version": "3.10.4"
  },
  "orig_nbformat": 4
 },
 "nbformat": 4,
 "nbformat_minor": 2
}
