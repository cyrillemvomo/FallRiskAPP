{
 "cells": [
  {
   "cell_type": "code",
   "execution_count": 1,
   "metadata": {},
   "outputs": [],
   "source": [
    "import numpy as np\n",
    "import pandas as pd"
   ]
  },
  {
   "cell_type": "code",
   "execution_count": 2,
   "metadata": {},
   "outputs": [],
   "source": [
    "#Healthy\n",
    "healthy_processed= pd.read_csv('/Users/cyrilleetude/Desktop/Bureau - MacBook Air de Cyrille/Semester_Project_Cyrille_2022/MachineLEARNING/Non_Fallers_Data_Analyzed/NonFallers_data_analyzed.csv')\n",
    "healthy_processed.drop(healthy_processed.columns[[0]], axis=1, inplace=True)\n",
    "# healthy_raw= pd.read_csv('/Users/cyrilleetude/Desktop/Bureau - MacBook Air de Cyrille/Semester_Project_Cyrille_2022/MachineLEARNING/Non_Fallers_Data_Analyzed/NonFallers_data_analyzed_raw.csv')\n",
    "# healthy_raw.drop(healthy_raw.columns[[0]], axis=1, inplace=True)\n",
    "\n",
    "\n",
    "\n",
    "#Patients\n",
    "patients_processed= pd.read_csv('/Users/cyrilleetude/Desktop/Bureau - MacBook Air de Cyrille/Semester_Project_Cyrille_2022/MachineLEARNING/Fallers_Data_Analyzed/Fallers_data_analyzed.csv')\n",
    "patients_processed.drop(patients_processed.columns[[0]], axis=1, inplace=True)\n",
    "# patients_raw= pd.read_csv('/Users/cyrilleetude/Desktop/Bureau - MacBook Air de Cyrille/Semester_Project_Cyrille_2022/MachineLEARNING/Fallers_Data_Analyzed/Fallers_data_analyzed_raw.csv')\n",
    "# patients_raw.drop(patients_raw.columns[[0]], axis=1, inplace=True)\n",
    "\n",
    "\n",
    "\n",
    "# # Differenciate raw vs processed columns name\n",
    "# Processed_df_label= [str(i)+'_processed' for i in list(patients_processed.columns)]\n",
    "# Raw_df_label= [str(i)+'_raw' for i in list(patients_processed.columns)]\n",
    "# patients_processed.columns, healthy_processed.columns = Processed_df_label, Processed_df_label\n",
    "# patients_raw.columns, healthy_raw.columns = Raw_df_label, Raw_df_label\n",
    "\n",
    "\n",
    "\n",
    "#Merge processed raw\n",
    "# healthy_list= [healthy_processed, healthy_raw]\n",
    "# healthy=pd.concat(healthy_list, axis= 1)\n",
    "healthy_processed[\"Category Encoded (0 = Non Fallers | 1 = Fallers)\"]= [0 for i in range(len(healthy_processed))]#LABEL\n",
    "healthy = healthy_processed.reset_index(drop=True)\n",
    "\n",
    "# patients_list= [patients_processed, patients_raw]\n",
    "# patients=pd.concat(patients_list, axis= 1)\n",
    "patients_processed[\"Category Encoded (0 = Non Fallers | 1 = Fallers)\"]= [1 for i in range(len(patients_processed))] #LABEL\n",
    "patients = patients_processed.reset_index(drop=True)\n",
    "\n",
    "#Merge all\n",
    "df_list= [healthy, patients]\n",
    "df=pd.concat(df_list, axis= 0)\n",
    "df = df.reset_index(drop=True)\n",
    "\n",
    "#Shuffle\n",
    "df = df.sample(frac=1).reset_index(drop=True)\n",
    "\n",
    "# #Save\n",
    "# df.to_csv(\"DATASET.csv\")\n"
   ]
  },
  {
   "cell_type": "code",
   "execution_count": 3,
   "metadata": {},
   "outputs": [
    {
     "data": {
      "text/plain": [
       "357"
      ]
     },
     "execution_count": 3,
     "metadata": {},
     "output_type": "execute_result"
    }
   ],
   "source": [
    "len( healthy)"
   ]
  }
 ],
 "metadata": {
  "interpreter": {
   "hash": "aee8b7b246df8f9039afb4144a1f6fd8d2ca17a180786b69acc140d282b71a49"
  },
  "kernelspec": {
   "display_name": "Python 3.10.4 64-bit",
   "language": "python",
   "name": "python3"
  },
  "language_info": {
   "codemirror_mode": {
    "name": "ipython",
    "version": 3
   },
   "file_extension": ".py",
   "mimetype": "text/x-python",
   "name": "python",
   "nbconvert_exporter": "python",
   "pygments_lexer": "ipython3",
   "version": "3.10.4"
  },
  "orig_nbformat": 4
 },
 "nbformat": 4,
 "nbformat_minor": 2
}
