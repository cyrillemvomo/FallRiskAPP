{
 "cells": [
  {
   "cell_type": "code",
   "execution_count": 237,
   "metadata": {},
   "outputs": [],
   "source": [
    "import signal_processing_app\n",
    "from signal_processing_app import signal_processing\n",
    "import numpy as np\n",
    "import random as rd\n",
    "import pandas as pd\n",
    "import pandas as pd\n",
    "import numpy as np\n",
    "import plotly.express as px\n",
    "import plotly.graph_objects as go\n",
    "from plotly.subplots import make_subplots\n",
    "import scipy\n",
    "from scipy.fftpack import fft, fftfreq, fftshift, ifft\n",
    "from scipy import signal\n",
    "from scipy.signal import butter, lfilter, filtfilt\n",
    "from optcutfreq import optcutfreq\n",
    "import os, glob\n",
    "import pandas as pd\n",
    "import numpy as np\n",
    "import plotly.express as px\n",
    "import plotly.graph_objects as go\n",
    "from plotly.subplots import make_subplots\n",
    "import scipy\n",
    "import matplotlib.pyplot as plt\n",
    "from scipy.signal import detrend\n",
    "import sys\n",
    "from scipy import integrate\n",
    "from flask import Flask, jsonify, request\n",
    "import json\n",
    "import pickle"
   ]
  },
  {
   "cell_type": "code",
   "execution_count": 266,
   "metadata": {},
   "outputs": [
    {
     "data": {
      "text/plain": [
       "5.07195738246246e-17"
      ]
     },
     "execution_count": 266,
     "metadata": {},
     "output_type": "execute_result"
    }
   ],
   "source": [
    "testdata = [[list(np.linspace(0, 100, 1000)/100),list(np.linspace(0, 100, 1000)/100),list(np.linspace(0, 100, 1000)/100)],\n",
    "[list(np.linspace(0, 100, 1000)/100),list(np.linspace(0, 100, 1000)/100),list(np.linspace(0, 100, 1000)/100)],\n",
    "[list(np.linspace(0, 100, 1000)/100),list(np.linspace(0, 100, 1000)/100),list(np.linspace(0, 100, 1000)/100)],\n",
    "[list(np.linspace(0, 100, 1000)/100),list(np.linspace(0, 100, 1000)/100),list(np.linspace(0, 100, 1000)/100)]\n",
    "]\n",
    "signal_processing(testdata)[0]"
   ]
  }
 ],
 "metadata": {
  "interpreter": {
   "hash": "aee8b7b246df8f9039afb4144a1f6fd8d2ca17a180786b69acc140d282b71a49"
  },
  "kernelspec": {
   "display_name": "Python 3.10.4 64-bit",
   "language": "python",
   "name": "python3"
  },
  "language_info": {
   "codemirror_mode": {
    "name": "ipython",
    "version": 3
   },
   "file_extension": ".py",
   "mimetype": "text/x-python",
   "name": "python",
   "nbconvert_exporter": "python",
   "pygments_lexer": "ipython3",
   "version": "3.10.4"
  },
  "orig_nbformat": 4
 },
 "nbformat": 4,
 "nbformat_minor": 2
}
