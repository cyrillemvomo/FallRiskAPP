{
 "cells": [
  {
   "cell_type": "code",
   "execution_count": 1,
   "metadata": {},
   "outputs": [],
   "source": [
    "import pandas as pd"
   ]
  },
  {
   "cell_type": "code",
   "execution_count": 2,
   "metadata": {},
   "outputs": [],
   "source": [
    "faller_features = pd.read_csv('/Users/cyrilleetude/Desktop/Bureau - MacBook Air de Cyrille/Semester_Project_Cyrille_2022/MachineLEARNING/Info/Fallers_Info_fc.csv')\n",
    "faller_features = faller_features.loc[:, ['Age',\n",
    "       'Height', 'Weight', 'BMI', 'Falls12m', 'Best_T', 'FES_T', 'AgeGroup(0=young|1=old)', 'Gender(0=F|1=M)', 'IPAQ_S']]\n",
    "faller_features = faller_features.astype(float)\n",
    "\n",
    "Nonfaller_features = pd.read_csv('/Users/cyrilleetude/Desktop/Bureau - MacBook Air de Cyrille/Semester_Project_Cyrille_2022/MachineLEARNING/Info/NonFallers_Info_fc.csv')\n",
    "Nonfaller_features = Nonfaller_features.loc[:, ['Age',\n",
    "       'Height', 'Weight', 'BMI', 'Falls12m', 'Best_T', 'FES_T', 'AgeGroup(0=young|1=old)', 'Gender(0=F|1=M)', 'IPAQ_S']]\n",
    "Nonfaller_features = Nonfaller_features.astype(float)\n",
    "\n",
    "Nonfaller_features.to_csv('/Users/cyrilleetude/Desktop/Bureau - MacBook Air de Cyrille/Semester_Project_Cyrille_2022/MachineLEARNING/Non_Fallers_Other_FEatures/Nonfaller_features.csv')\n",
    "faller_features.to_csv('/Users/cyrilleetude/Desktop/Bureau - MacBook Air de Cyrille/Semester_Project_Cyrille_2022/MachineLEARNING/Fallers_Other_FEatures/faller_features.csv')"
   ]
  }
 ],
 "metadata": {
  "interpreter": {
   "hash": "aee8b7b246df8f9039afb4144a1f6fd8d2ca17a180786b69acc140d282b71a49"
  },
  "kernelspec": {
   "display_name": "Python 3.10.4 64-bit",
   "language": "python",
   "name": "python3"
  },
  "language_info": {
   "codemirror_mode": {
    "name": "ipython",
    "version": 3
   },
   "file_extension": ".py",
   "mimetype": "text/x-python",
   "name": "python",
   "nbconvert_exporter": "python",
   "pygments_lexer": "ipython3",
   "version": "3.10.4"
  },
  "orig_nbformat": 4
 },
 "nbformat": 4,
 "nbformat_minor": 2
}
