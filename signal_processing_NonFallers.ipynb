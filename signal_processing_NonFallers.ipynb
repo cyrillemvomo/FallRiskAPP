{
 "cells": [
  {
   "cell_type": "markdown",
   "metadata": {},
   "source": [
    "Import"
   ]
  },
  {
   "cell_type": "code",
   "execution_count": 1,
   "metadata": {},
   "outputs": [],
   "source": [
    "import pandas as pd\n",
    "import numpy as np\n",
    "import plotly.express as px\n",
    "import plotly.graph_objects as go\n",
    "from plotly.subplots import make_subplots\n",
    "import scipy\n",
    "from scipy.fftpack import fft, fftfreq, fftshift, ifft\n",
    "from scipy import signal\n",
    "from scipy.signal import butter, lfilter, filtfilt\n",
    "from optcutfreq import optcutfreq"
   ]
  },
  {
   "cell_type": "markdown",
   "metadata": {},
   "source": [
    "Read"
   ]
  },
  {
   "cell_type": "code",
   "execution_count": 2,
   "metadata": {},
   "outputs": [],
   "source": [
    "import os, glob"
   ]
  },
  {
   "cell_type": "code",
   "execution_count": 3,
   "metadata": {},
   "outputs": [],
   "source": [
    "# Define relative path to folder containing the text files\n",
    "\n",
    "files_folder = \"/Users/cyrilleetude/Desktop/Bureau - MacBook Air de Cyrille/Semester_Project_Cyrille_2022/MachineLEARNING/NonFallersCOMraw\"\n",
    "raw_files = []\n",
    "\n",
    "# Create a dataframe list by using a list comprehension\n",
    "\n",
    "raw_files = [pd.read_csv(file) for file in glob.glob(os.path.join(files_folder ,\"*.csv\"))]\n"
   ]
  },
  {
   "cell_type": "markdown",
   "metadata": {},
   "source": [
    "Processing and save (4th order bidirectionnal Butterworth filter at 16hz with 0 phase shift)"
   ]
  },
  {
   "cell_type": "code",
   "execution_count": 4,
   "metadata": {},
   "outputs": [],
   "source": [
    "Time= np.linspace(0,30,len(raw_files[0]))\n",
    "def clean_df(df):\n",
    "    '''\n",
    "        Clean a df by removing the firs row\n",
    "    '''\n",
    "    return df.loc[:, ['COM_AP', 'COM_ML']]\n",
    "# def residualanalysis_raw_data(column):\n",
    "#     '''\n",
    "#         Perform a residual analysis on each column to get the optimal cutoff frequency\n",
    "#     '''\n",
    "#     freq= np.mean(1/np.diff(Time))\n",
    "#     fc_opt= optcutfreq(column.values, freq, show=False)\n",
    "#     return fc_opt\n",
    "def optcutfreq_store(df):\n",
    "    '''\n",
    "        Store each frequencies found in a list\n",
    "    '''\n",
    "    Opt_Freq_list= []   \n",
    "    for i in df:\n",
    "        Opt_Freq_list.append(10) #fc_opt #list of optimal cutoff frequencies for each columns\n",
    "    return Opt_Freq_list\n",
    "def Fourth_Order_bidirect_ButterW(column, fc_opt):\n",
    "    '''\n",
    "        4th Order Butterworth filter with 0 phase shift (low pass)(Hak et al. 2013)\n",
    "    '''\n",
    "    npasses= 2 # 2 pass (bidirectional)\n",
    "    freq= np.mean(1/np.diff(Time))\n",
    "    C = (2**(1/npasses) - 1)**0.25 #correction\n",
    "    b, a = butter(4, (fc_opt/C)/(freq/4)) #4th order with correction the cutoff frequency for the number of passes in the filter\n",
    "    filtered_column = filtfilt(b, a, column.values)  # filter with phase shift correction\n",
    "    return filtered_column\n",
    "\n",
    "def filtred_store(df):\n",
    "    '''\n",
    "        Store each filtred column  in a list\n",
    "    '''\n",
    "    filtred_col_list= [] \n",
    "    fc_opt_list= optcutfreq_store(df)\n",
    "    Column_list= []   \n",
    "    for i in df:\n",
    "        Column_list.append(df[i]) #list of each column datas\n",
    "    for column, fc_opt in zip(Column_list, fc_opt_list):\n",
    "        filtred_col_list.append(Fourth_Order_bidirect_ButterW(column, fc_opt)) #list of optimal cutoff frequencies for each columns\n",
    "    return filtred_col_list\n",
    "def New_Data(df):\n",
    "    '''\n",
    "        Create a new dataframe with the filtered data\n",
    "    '''\n",
    "    names= list(df.columns)\n",
    "    data = filtred_store(df)\n",
    "    new_df = pd.DataFrame.from_dict(dict(zip(names, data)))  \n",
    "    return new_df\n",
    "\n",
    "CleanFiles= []\n",
    "for i in raw_files:\n",
    "    CleanFiles.append(clean_df(i))\n",
    "\n",
    "ProcessedFiles= []\n",
    "for i in CleanFiles:\n",
    "    ProcessedFiles.append(New_Data(i))\n"
   ]
  },
  {
   "cell_type": "code",
   "execution_count": 5,
   "metadata": {},
   "outputs": [],
   "source": [
    "def save(lst_of_df):\n",
    "    for index in range(len(lst_of_df)):\n",
    "        lst_of_df[index].to_csv('processed_NonFallers_[%s].csv' %index)"
   ]
  },
  {
   "cell_type": "code",
   "execution_count": 6,
   "metadata": {},
   "outputs": [],
   "source": [
    "save(ProcessedFiles)"
   ]
  }
 ],
 "metadata": {
  "interpreter": {
   "hash": "aee8b7b246df8f9039afb4144a1f6fd8d2ca17a180786b69acc140d282b71a49"
  },
  "kernelspec": {
   "display_name": "Python 3.10.4 64-bit",
   "language": "python",
   "name": "python3"
  },
  "language_info": {
   "codemirror_mode": {
    "name": "ipython",
    "version": 3
   },
   "file_extension": ".py",
   "mimetype": "text/x-python",
   "name": "python",
   "nbconvert_exporter": "python",
   "pygments_lexer": "ipython3",
   "version": "3.10.4"
  },
  "orig_nbformat": 4
 },
 "nbformat": 4,
 "nbformat_minor": 2
}
